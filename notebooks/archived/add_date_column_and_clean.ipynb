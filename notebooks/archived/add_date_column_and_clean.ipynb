{
 "cells": [
  {
   "cell_type": "code",
   "execution_count": null,
   "id": "e030abc4",
   "metadata": {},
   "outputs": [],
   "source": [
    "import concurrent.futures\n",
    "import datetime\n",
    "import os\n",
    "import traceback\n",
    "from pathlib import Path\n",
    "\n",
    "import dateparser\n",
    "import pandas as pd\n",
    "from tqdm import tqdm"
   ]
  },
  {
   "cell_type": "code",
   "execution_count": null,
   "id": "d88395c9",
   "metadata": {},
   "outputs": [],
   "source": [
    "df = pd.read_csv('/Users/Felis.catus/Desktop/09-29-2021_kraken-769a9b6b_part1_ACC_LS_unlabeled.csv')"
   ]
  },
  {
   "cell_type": "code",
   "execution_count": null,
   "id": "46445213",
   "metadata": {},
   "outputs": [],
   "source": [
    "file = '/Users/Felis.catus/Desktop/GitHub/Biodiversity-CatTracker2/CatTracker2.0-Database/cats/kraken-769a9b6b/10-03-2021/RAW/10-03-2021_kraken-769a9b6b_raw_ACC.csv.tbz2'\n",
    "df = pd.read_csv(file, compression='bz2')\n",
    "df.rename(columns={Path(file).stem: 'event'}, inplace=True)\n",
    "df.drop([len(df) - 1], axis=0, inplace=True)\n",
    "df"
   ]
  },
  {
   "cell_type": "code",
   "execution_count": null,
   "id": "cb2ea7ce",
   "metadata": {},
   "outputs": [],
   "source": [
    "date = dateparser.parse('10-03-2021')"
   ]
  },
  {
   "cell_type": "code",
   "execution_count": null,
   "id": "05332235",
   "metadata": {},
   "outputs": [],
   "source": [
    "intervals = []\n",
    "new_day = False\n",
    "for x, y in zip(df['Time'], df['event']):\n",
    "    if x == '00:00:01':\n",
    "        new_day = False\n",
    "    if new_day:\n",
    "        continue\n",
    "    if x == '00:00:00':\n",
    "        new_day = True\n",
    "        intervals.append((int(y), x))\n",
    "idx = [x[0] for x in intervals]\n",
    "intervals, idx"
   ]
  },
  {
   "cell_type": "code",
   "execution_count": null,
   "id": "0f23ff5d",
   "metadata": {},
   "outputs": [],
   "source": [
    "df['Date'] = [date] * len(df)\n",
    "df['Date'][:idx[0]] = date\n",
    "df['Date'][idx[0]:idx[1]] = date + datetime.timedelta(days=1)\n",
    "df['Date'][idx[1]:idx[2]] = date + datetime.timedelta(days=2)\n",
    "df['Date'][idx[2]:] = date + datetime.timedelta(days=3)\n",
    "df['Date'] = [str(x.date()) for x in df['Date']]\n",
    "len(df['Date']) == len(df)"
   ]
  },
  {
   "cell_type": "code",
   "execution_count": null,
   "id": "d6aecc20",
   "metadata": {},
   "outputs": [],
   "source": [
    "df"
   ]
  },
  {
   "cell_type": "code",
   "execution_count": null,
   "id": "95c45053",
   "metadata": {},
   "outputs": [],
   "source": [
    "df = df[['event', 'tag.local.identifier', 'Date'] + [x for x in df.columns\n",
    "         if x not in ['Date', 'event', 'tag.local.identifier']]]\n",
    "df"
   ]
  },
  {
   "cell_type": "code",
   "execution_count": null,
   "id": "d97aa247",
   "metadata": {},
   "outputs": [],
   "source": [
    "df['timestamp'] = df['Date'] + ' ' + df['Time']\n",
    "left_cols = ['event', 'tag.local.identifier', 'timestamp']\n",
    "df = df[left_cols + [x for x in df.columns if x not in left_cols]]\n",
    "df"
   ]
  },
  {
   "cell_type": "code",
   "execution_count": null,
   "id": "8c176d9d",
   "metadata": {},
   "outputs": [],
   "source": [
    "bad_fmt = []\n",
    "for x in df['timestamp']:\n",
    "    try:\n",
    "        datetime.datetime.strptime(x, '%m-%d-%Y %H:%M:%S')\n",
    "    except Exception as e:\n",
    "        bad_str = traceback.format_exc().split('\\n')[-2].split('\\'')[1]\n",
    "        bad_fmt.append(list(df.loc[(df['timestamp'] == bad_str)]['event']))\n",
    "\n",
    "if bad_fmt:\n",
    "    assert all([isinstance(x, list) for x in bad_fmt])\n",
    "    bad_idx = [x - 1 for x in set([i for l in bad_fmt for i in l])]\n",
    "    assert len(set(list(df.iloc[bad_idx]['timestamp']))) == 1"
   ]
  },
  {
   "cell_type": "code",
   "execution_count": null,
   "id": "ad66e2dd",
   "metadata": {},
   "outputs": [],
   "source": [
    "# if bad_fmt:\n",
    "#     df.iloc[bad_idx]"
   ]
  },
  {
   "cell_type": "code",
   "execution_count": null,
   "id": "5c0bf4a6",
   "metadata": {},
   "outputs": [],
   "source": [
    "if bad_fmt:\n",
    "    date_before = df['timestamp'][bad_idx[0]-1]\n",
    "    date_before_len = len(df.loc[df['timestamp'] == date_before])\n",
    "    date_before_len, date_before"
   ]
  },
  {
   "cell_type": "code",
   "execution_count": null,
   "id": "749bd6eb",
   "metadata": {},
   "outputs": [],
   "source": [
    "if bad_fmt:\n",
    "    date_after = df['timestamp'][bad_idx[-1]+1]\n",
    "    date_after_len = len(df.loc[df['timestamp'] == date_after])\n",
    "    date_after_len, date_after"
   ]
  },
  {
   "cell_type": "code",
   "execution_count": null,
   "id": "29b22e55",
   "metadata": {},
   "outputs": [],
   "source": [
    "if bad_fmt:\n",
    "    if date_before_len == 16:\n",
    "        df.replace(list(df.iloc[bad_idx]['timestamp'])[0], date_after, inplace=True)\n",
    "        time_after = dateparser.parse(date_after).time().strftime('%H:%M:%S')\n",
    "        df.replace(list(df.iloc[bad_idx]['Time'])[0], time_after, inplace=True)\n",
    "\n",
    "    elif date_after_len == 16:\n",
    "        df.replace(list(df.iloc[bad_idx]['timestamp'])[0], date_before, inplace=True)\n",
    "        time_before = dateparser.parse(date_before).time().strftime('%H:%M:%S')\n",
    "        df.replace(list(df.iloc[bad_idx]['Time'])[0], time_before, inplace=True)\n",
    "\n",
    "    else:\n",
    "        raise Exception('Neither seconds have 16 data points!')"
   ]
  },
  {
   "cell_type": "code",
   "execution_count": null,
   "id": "a94a2bdf",
   "metadata": {},
   "outputs": [],
   "source": [
    "if bad_fmt:\n",
    "    df.iloc[bad_idx]"
   ]
  },
  {
   "cell_type": "code",
   "execution_count": null,
   "id": "70303bef",
   "metadata": {},
   "outputs": [],
   "source": [
    "df['timestamp'] = pd.to_datetime(df['timestamp'], format='%m-%d-%Y %H:%M:%S')\n",
    "\n",
    "df = df.astype(\n",
    "    {\n",
    "        'event': 'int32',\n",
    "        'tag.local.identifier': 'int32',\n",
    "        'timestamp': 'datetime64[ns]',\n",
    "        'Accx': 'float32',\n",
    "        'Accy': 'float32',\n",
    "        'Accz': 'float32',\n",
    "        'rAccx': 'int32',\n",
    "        'rAccy': 'int32',\n",
    "        'rAccz': 'int32',\n",
    "    }\n",
    ")\n",
    "df.dtypes"
   ]
  },
  {
   "cell_type": "code",
   "execution_count": null,
   "id": "e27b86b8",
   "metadata": {},
   "outputs": [],
   "source": [
    "new_file_path = f'{Path(file).parent}/{Path(Path(file).stem).stem}_with_date.csv'\n",
    "df.to_csv(new_file_path, index=False)\n",
    "print('Now compress with Keka...')"
   ]
  },
  {
   "cell_type": "code",
   "execution_count": null,
   "id": "4aa8169c",
   "metadata": {},
   "outputs": [],
   "source": []
  }
 ],
 "metadata": {
  "kernelspec": {
   "display_name": "Python 3.9.1 64-bit ('base': conda)",
   "language": "python",
   "name": "python391jvsc74a57bd0d9d2394198635c2d7cb75282bd876ed2052fbccce2f2ec822bf275713a16e0d2"
  },
  "language_info": {
   "codemirror_mode": {
    "name": "ipython",
    "version": 3
   },
   "file_extension": ".py",
   "mimetype": "text/x-python",
   "name": "python",
   "nbconvert_exporter": "python",
   "pygments_lexer": "ipython3",
   "version": "3.9.5"
  }
 },
 "nbformat": 4,
 "nbformat_minor": 5
}
