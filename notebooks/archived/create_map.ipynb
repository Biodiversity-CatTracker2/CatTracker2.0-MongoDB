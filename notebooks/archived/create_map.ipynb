{
 "cells": [
  {
   "cell_type": "code",
   "execution_count": 1,
   "metadata": {
    "collapsed": false,
    "pycharm": {
     "name": "#%%\n"
    }
   },
   "outputs": [],
   "source": [
    "import pandas as pd\n",
    "import keyring\n",
    "from bokeh.models import ColumnDataSource, GMapOptions\n",
    "from bokeh.plotting import gmap\n",
    "from bokeh.layouts import column\n",
    "from bokeh.io import show"
   ]
  },
  {
   "cell_type": "code",
   "execution_count": null,
   "id": "0c123b87",
   "metadata": {},
   "outputs": [],
   "source": [
    "df = pd.read_csv('/Users/Felis.catus/Desktop/CAT001_D03_P02.csv')\n",
    "df['timestamp'] = df['timestamp'].astype('datetime64[ns]')\n",
    "df['date'] = df['timestamp'].dt.date\n",
    "df['_date'] = df['date']\n",
    "df['date'] = df['date'].astype('datetime64[ns]')\n",
    "dates = df['date'].unique()\n",
    "df = df.set_index('date')\n",
    "df = df.loc[(df['gps:hdop'] < 1.3)]"
   ]
  },
  {
   "cell_type": "code",
   "execution_count": null,
   "id": "9613b8f0",
   "metadata": {},
   "outputs": [],
   "source": [
    "def plot(start, end):\n",
    "    df_ = df.loc[start:end]\n",
    "    start = str(pd.to_datetime(df_['_date'][0]).date())\n",
    "    end = str(pd.to_datetime(df_['_date'][-1]).date())\n",
    "    map_options = GMapOptions(\n",
    "        lat=list(df_['location-lat'])[0],\n",
    "        lng=list(df_['location-long'])[0],\n",
    "        map_type=\"hybrid\",\n",
    "        zoom=18\n",
    "    )\n",
    "    api_key =  keyring.get_password('google_maps', 'API_KEY')\n",
    "    p = gmap(api_key, map_options, title=f'{start} to {end}')\n",
    "    source = ColumnDataSource(\n",
    "        data=dict(lat=list(df_['location-lat']),\n",
    "                  lon=df_['location-long'])\n",
    "    )\n",
    "    p.circle(\n",
    "        x='lon',\n",
    "        y='lat',\n",
    "        size=5,\n",
    "        fill_color='red',\n",
    "        line_color='red',\n",
    "        fill_alpha=1,\n",
    "        source=source\n",
    "    )\n",
    "    return p\n",
    "\n",
    "objs = [plot(dates[n], dates[n + 1]) for n in range(0, len(dates), 2)]\n",
    "show(column(*objs))"
   ]
  },
  {
   "cell_type": "code",
   "execution_count": 6,
   "id": "6c88ef00",
   "metadata": {},
   "outputs": [],
   "source": []
  }
 ],
 "metadata": {
  "interpreter": {
   "hash": "75fe5293f21d3597b8d22ba9b3a053eecc4158c696ce9edb370996382896714a"
  },
  "kernelspec": {
   "display_name": "Python 3.9.5 64-bit ('base': conda)",
   "name": "python3"
  },
  "language_info": {
   "codemirror_mode": {
    "name": "ipython",
    "version": 3
   },
   "file_extension": ".py",
   "mimetype": "text/x-python",
   "name": "python",
   "nbconvert_exporter": "python",
   "pygments_lexer": "ipython3",
   "version": "3.9.5"
  }
 },
 "nbformat": 4,
 "nbformat_minor": 5
}
