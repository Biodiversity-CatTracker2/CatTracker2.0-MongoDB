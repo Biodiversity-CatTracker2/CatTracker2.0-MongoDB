{
 "cells": [
  {
   "cell_type": "code",
   "execution_count": 1,
   "id": "00be4409",
   "metadata": {},
   "outputs": [],
   "source": [
    "import concurrent.futures\n",
    "import re\n",
    "\n",
    "from MongoDB_connect import mongodb_connect"
   ]
  },
  {
   "cell_type": "code",
   "execution_count": 2,
   "id": "bd1c9a3a",
   "metadata": {},
   "outputs": [],
   "source": [
    "def check_not_signed_up_yet(x):\n",
    "    for d in list(db.inbox_emails.find({'reply_to':  x})):\n",
    "        if list(db.sent_emails.find({'$or': [{'to':  x}, {'ignore': {'$ne': True}}]})):\n",
    "            continue\n",
    "        print(d['date'])\n",
    "        print(d['reply_to'])\n",
    "        print(d['text'])\n",
    "        print('-' * 79)\n",
    "        print('\\n\\n')"
   ]
  },
  {
   "cell_type": "code",
   "execution_count": 3,
   "id": "5e606dee",
   "metadata": {},
   "outputs": [],
   "source": [
    "session = mongodb_connect()\n",
    "db = session.connection['cattracker2']"
   ]
  },
  {
   "cell_type": "code",
   "execution_count": 4,
   "id": "da02b47d",
   "metadata": {},
   "outputs": [
    {
     "data": {
      "text/plain": [
       "19"
      ]
     },
     "execution_count": 4,
     "metadata": {},
     "output_type": "execute_result"
    }
   ],
   "source": [
    "contacted_us = list(set(x['reply_to'].lower()\n",
    "                   for x in db.contact_us.find({'reply_to': {'$ne': None}})))\n",
    "signed_up = [a for a in contacted_us\n",
    "             if db.signup_form.find_one(\n",
    "                 {'owner_email_address': re.compile(a, re.IGNORECASE)})]\n",
    "not_signed_up = list(set(contacted_us).difference(signed_up))\n",
    "len(not_signed_up)"
   ]
  },
  {
   "cell_type": "code",
   "execution_count": 5,
   "id": "54efbb6f",
   "metadata": {},
   "outputs": [],
   "source": [
    "with concurrent.futures.ThreadPoolExecutor() as executor:\n",
    "    futures = []\n",
    "    results = [executor.submit(check_not_signed_up_yet, x) for x in not_signed_up]\n",
    "    for future in concurrent.futures.as_completed(results):\n",
    "        futures.append(future.result())"
   ]
  },
  {
   "cell_type": "markdown",
   "id": "46f84d3b",
   "metadata": {},
   "source": [
    "```\n",
    "Hi <NAME>,\n",
    "\n",
    "Thank you for your contacting us!  We are more than happy to include your feline friend in our research!\n",
    "\n",
    "You can start by filling out the signup form (https://cattracker.org/signup).  After you fill out the form, you will receive an email as soon as one of our deployed collars becomes available.\n",
    "\n",
    "Please let me know if you have any questions!\n",
    "\n",
    "\n",
    "Best wishes,\n",
    "Mohammad\n",
    "```"
   ]
  },
  {
   "cell_type": "code",
   "execution_count": null,
   "id": "dae69344",
   "metadata": {},
   "outputs": [],
   "source": []
  }
 ],
 "metadata": {
  "kernelspec": {
   "display_name": "miniforge3",
   "language": "python",
   "name": "base"
  },
  "language_info": {
   "codemirror_mode": {
    "name": "ipython",
    "version": 3
   },
   "file_extension": ".py",
   "mimetype": "text/x-python",
   "name": "python",
   "nbconvert_exporter": "python",
   "pygments_lexer": "ipython3",
   "version": "3.9.5"
  }
 },
 "nbformat": 4,
 "nbformat_minor": 5
}
