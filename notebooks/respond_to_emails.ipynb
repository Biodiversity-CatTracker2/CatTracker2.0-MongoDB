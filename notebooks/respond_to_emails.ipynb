{
 "cells": [
  {
   "cell_type": "code",
   "execution_count": null,
   "id": "e8367578",
   "metadata": {},
   "outputs": [],
   "source": [
    "import os\n",
    "import re\n",
    "import sys\n",
    "from pprint import pprint\n",
    "\n",
    "import keyring\n",
    "from imap_tools import A, MailBox, O\n",
    "\n",
    "sys.path.append('..')\n",
    "sys.path.append('../..')\n",
    "import pipeline\n",
    "from MongoDB_connect import mongodb_connect"
   ]
  },
  {
   "cell_type": "code",
   "execution_count": null,
   "id": "78b028d1",
   "metadata": {},
   "outputs": [],
   "source": [
    "def build_mailbox_dict(folder, mapping, dry_run=False, debug=False):\n",
    "    mail_dicts = []\n",
    "    with MailBox('imap.gmail.com').login(addr, mail_p, initial_folder=folder) as mailbox:\n",
    "        mails = mailbox.fetch(criteria=A(O(*mapping)), bulk=True)\n",
    "        for msg in mails:\n",
    "            include = [\n",
    "                'date', 'from_', 'reply_to', 'to', 'subject', 'text', 'flags',\n",
    "                'size', 'uid'\n",
    "            ]\n",
    "            msg_ = [(x, getattr(msg, x)) for x in dir(msg) if x in include]\n",
    "            data = {k: v for k, v in msg_}\n",
    "            for k, v in msg_:\n",
    "                try:\n",
    "                    if len(v) == 1:\n",
    "                        data.update({k: v[0]})\n",
    "                except TypeError:\n",
    "                    pass\n",
    "\n",
    "            mail_regex = r'On\\s[a-zA-Z]+,\\s[a-zA-Z]+\\s+[0-9]+,\\s[0-9]+'\n",
    "            gmail_regex = r'-+\\s[a-zA-Z]+\\s+[a-zA-Z]+\\s-+'\n",
    "            content = re.split(mail_regex, data['text'])\n",
    "            if len(content) == 1:\n",
    "                content = re.split(gmail_regex, data['text'])\n",
    "\n",
    "            body = []\n",
    "            for line in content[0].split('\\n'):\n",
    "                if not any([\n",
    "                        line.startswith(x)\n",
    "                        for x in ['From:', 'Subject:', 'Message Body:']\n",
    "                ]):\n",
    "                    body.append(line)\n",
    "\n",
    "            data['text'] = '\\n'.join(body)\n",
    "            data = {k: data[k] for k in include}\n",
    "            mail_dicts.append(data)\n",
    "            if folder == '[Gmail]/Sent Mail':\n",
    "                collection = 'sent_emails'\n",
    "            elif folder.upper() == 'INBOX':\n",
    "                collection = 'inbox_emails'\n",
    "            if not dry_run:\n",
    "                db[collection].update_one(\n",
    "                    {'_id': data['uid']},\n",
    "                    {'$set': data}, upsert=True\n",
    "                )\n",
    "                mailbox.box.uid('STORE', data['uid'], 'X-GM-LABELS',\n",
    "                                'cat-tracker-2.0')\n",
    "            if debug:\n",
    "                return data\n",
    "    return mail_dicts"
   ]
  },
  {
   "cell_type": "code",
   "execution_count": null,
   "id": "30aae3d4",
   "metadata": {},
   "outputs": [],
   "source": [
    "session = pipeline.main(True)\n",
    "db = session.connection['cattracker2']"
   ]
  },
  {
   "cell_type": "code",
   "execution_count": null,
   "id": "79fb5d82",
   "metadata": {},
   "outputs": [],
   "source": [
    "addr = keyring.get_password('emails', 'ncsu')\n",
    "mail_p = keyring.get_password('ncsu.gmail', addr)"
   ]
  },
  {
   "cell_type": "code",
   "execution_count": null,
   "id": "529128ce",
   "metadata": {},
   "outputs": [],
   "source": [
    "contacted_us = list(\n",
    "    set(x['reply_to'].lower()\n",
    "        for x in db.contact_us.find({'reply_to': {\n",
    "            '$ne': None\n",
    "        }})))\n",
    "\n",
    "emails_mapping = list(\n",
    "    map(lambda x: A(from_=x), contacted_us + ['wordpress@cattracker.org']))\n",
    "sent_emails_mapping = list(map(lambda x: A(to=x), contacted_us))"
   ]
  },
  {
   "cell_type": "code",
   "execution_count": null,
   "id": "397bed9e",
   "metadata": {},
   "outputs": [],
   "source": [
    "sent_mail_dicts = build_mailbox_dict('[Gmail]/Sent Mail', sent_emails_mapping)"
   ]
  },
  {
   "cell_type": "code",
   "execution_count": null,
   "id": "3dd1b021",
   "metadata": {},
   "outputs": [],
   "source": [
    "emails_ = list(db.inbox_emails.find(\n",
    "    {\n",
    "        'ignore': {'$ne': True},\n",
    "        'colab': {'$ne': True}\n",
    "    }\n",
    ")\n",
    "    )\n",
    "inbox_emails = []\n",
    "for x in emails_:\n",
    "    if not x['reply_to']:\n",
    "        inbox_emails.append(x['from_'])\n",
    "    else:\n",
    "        inbox_emails.append(x['reply_to'])\n",
    "inbox_emails = set(inbox_emails)\n",
    "\n",
    "diff = list(inbox_emails.difference([x['to'] for x in sent_mail_dicts]))\n",
    "\n",
    "print('-' * 20, 'HAVE NOT RESPONDED TO', '-' * 20)\n",
    "for n, m in enumerate(diff):\n",
    "    print(f'({n})\\n')\n",
    "    res = db.inbox_emails.find({'$or': [{'from_': m}, {'reply_to': m}]})\n",
    "    m_ = list(res)[0]\n",
    "    m_['text'] = m_['text'].replace('\\r\\n', '')\n",
    "    pprint(m_)\n",
    "    print('\\n' + '-' * 80 + '\\n')"
   ]
  },
  {
   "cell_type": "code",
   "execution_count": null,
   "id": "fc717edc",
   "metadata": {},
   "outputs": [],
   "source": [
    "# key = 'ignore'\n",
    "# key = 'colab'\n",
    "# if diff:\n",
    "#     for ignore_num in [0]:\n",
    "#         db.inbox_emails.update_one(\n",
    "#             {'$or': [{'from_': diff[ignore_num]}, {'reply_to': diff[ignore_num]}]},\n",
    "#             {'$set':{key: True}})"
   ]
  },
  {
   "cell_type": "markdown",
   "id": "25d6f43b",
   "metadata": {},
   "source": [
    "Hi <NAME>,\n",
    "\n",
    "Thank you for your contacting us! We are more than happy to include your feline friend in our research!\n",
    "\n",
    "You can start by filling out the signup form (https://cattracker.org/signup).  We will be waiting for your form response before we proceed any further with including your cat in the study.\n",
    "\n",
    "Please let me know if you have any questions!  Thank you again!\n",
    "\n",
    "\n",
    "Best wishes,\n",
    "<FROM>"
   ]
  }
 ],
 "metadata": {
  "interpreter": {
   "hash": "75fe5293f21d3597b8d22ba9b3a053eecc4158c696ce9edb370996382896714a"
  },
  "kernelspec": {
   "display_name": "Python (3.10)",
   "language": "python",
   "name": "py3.10"
  },
  "language_info": {
   "codemirror_mode": {
    "name": "ipython",
    "version": 3
   },
   "file_extension": ".py",
   "mimetype": "text/x-python",
   "name": "python",
   "nbconvert_exporter": "python",
   "pygments_lexer": "ipython3",
   "version": "3.10.0rc1"
  }
 },
 "nbformat": 4,
 "nbformat_minor": 5
}
